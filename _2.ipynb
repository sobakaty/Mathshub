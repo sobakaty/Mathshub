{
  "nbformat": 4,
  "nbformat_minor": 0,
  "metadata": {
    "colab": {
      "provenance": [],
      "collapsed_sections": []
    },
    "kernelspec": {
      "name": "python3",
      "display_name": "Python 3"
    },
    "language_info": {
      "name": "python"
    }
  },
  "cells": [
    {
      "cell_type": "markdown",
      "source": [
        "# Домашнее задание №2"
      ],
      "metadata": {
        "id": "ZEfFasFJqw1A"
      }
    },
    {
      "cell_type": "markdown",
      "source": [
        "## Задача №1\n",
        "\n",
        "**Условие:** Напишите программу, которая позволяет найти сумму и произведение 3-ех целых чисел. Числа необходимо вводить с клавиатуры. Выведите на экран результат сложения и умножения через запятую в одной строке.\n",
        "\n",
        "**Данные для получения ответа:**\n",
        "3, 8, 2\n",
        "\n",
        "**Варианты ответа для Canvas:**\n",
        "\n",
        "\n",
        "1. 13 48 \n",
        "2. 13, 48\n",
        "3. 48\n",
        "4. 48, 13  \n",
        "\n"
      ],
      "metadata": {
        "id": "NFpHXzQ6qJxb"
      }
    },
    {
      "cell_type": "code",
      "source": [
        "num1 = int(input())\n",
        "num2 = int(input())\n",
        "num3 = int(input())\n",
        "print(num1+num2+num3, end=',')\n",
        "print(num1*num2*num3)"
      ],
      "metadata": {
        "colab": {
          "base_uri": "https://localhost:8080/"
        },
        "id": "1D-Xf3ik2g1b",
        "outputId": "ae3da7fb-b06f-4f74-d961-0a6355c9b3b9"
      },
      "execution_count": 3,
      "outputs": [
        {
          "output_type": "stream",
          "name": "stdout",
          "text": [
            "3\n",
            "8\n",
            "2\n",
            "13,48\n"
          ]
        }
      ]
    },
    {
      "cell_type": "markdown",
      "source": [
        "## Задача №2\n",
        "\n",
        "**Условие:** Напишите программу для пересчёта величины временного интервала, заданного в минутах, в величину, выраженную в часах и минутах. Необходимо вывести сообщение вида x минут - это m час n минут.\n",
        "\n",
        "**Данные для получения ответа:**\n",
        "115\n",
        "\n",
        "**Варианты ответа для Canvas:**\n",
        "\n",
        "\n",
        "1. 115 минут - 1,92 час \n",
        "2. 1 час 55 минут\n",
        "3. 115 минут - 1 час 55 минут\n",
        "4. 115 минут - 2 час\n",
        "\n"
      ],
      "metadata": {
        "id": "BXBB8FYxVrQ7"
      }
    },
    {
      "cell_type": "code",
      "source": [
        "num = int(input())\n",
        "print(num, 'минут -', num//60, 'час', num%60, 'минут')"
      ],
      "metadata": {
        "colab": {
          "base_uri": "https://localhost:8080/"
        },
        "id": "JduqF5t18MXb",
        "outputId": "4bd6e1d3-812b-4f43-97be-65a386447dae"
      },
      "execution_count": 6,
      "outputs": [
        {
          "output_type": "stream",
          "name": "stdout",
          "text": [
            "115\n",
            "115 минут - 1 час 55 минут\n"
          ]
        }
      ]
    },
    {
      "cell_type": "markdown",
      "source": [
        "## Задача №3\n",
        "\n",
        "**Условие:** Напишите программу для пересчёта величины временного интервала, заданного в минутах, в величину, выраженную в часах и минутах. Необходимо вывести сообщение вида m час n минут с учетом правильного отображения форм слов \"час\" и \"минута\" (в зависимости от полученного результата).\n",
        "\n",
        "**Данные для получения ответа:**\n",
        "45\n",
        "\n",
        "**Варианты ответа для Canvas:**\n",
        "\n",
        "\n",
        "1. 0 часов\n",
        "2. 45 минут\n",
        "3. 0 час 45 минут\n",
        "4. 0 часов 45 минут\n",
        "\n"
      ],
      "metadata": {
        "id": "x8ciCybeW2xC"
      }
    },
    {
      "cell_type": "code",
      "source": [
        "num = int(input())\n",
        "h = num//60\n",
        "m = num % 60\n",
        "last_h = h%10\n",
        "last_m = m%10\n",
        "if h in [5, 6 , 7, 8 , 9, 10, 11, 12]:\n",
        "   text_h = 'часов'\n",
        "elif last_h == 1:\n",
        "    text_h = 'час'\n",
        "elif last_h in [2, 3, 4]:\n",
        "    text_h = 'часа'\n",
        "else:\n",
        "  text_h = 'часов'\n",
        "\n",
        "if m in [11, 12, 13, 14]:    \n",
        "   text_m = 'минут'\n",
        "elif last_m == 1:\n",
        "   text_m = 'минута'\n",
        "elif last_m in [2, 3, 4]:\n",
        "   text_m = 'минуты'\n",
        "else:\n",
        "   text_m = 'минут'\n",
        "print(h, text_h, m, text_m)"
      ],
      "metadata": {
        "colab": {
          "base_uri": "https://localhost:8080/"
        },
        "id": "t0gLh_3S-GS9",
        "outputId": "fbd2f7ac-f338-47e9-8060-ca39d8afca51"
      },
      "execution_count": 11,
      "outputs": [
        {
          "output_type": "stream",
          "name": "stdout",
          "text": [
            "2\n",
            "0 часов 2 минуты\n"
          ]
        }
      ]
    },
    {
      "cell_type": "markdown",
      "source": [
        "## Задача №4\n",
        "\n",
        "**Условие:** Напишите программу, которая принимает целое число N и определяет, принадлежит ли данное число указанным промежуткам: от минус бесконечности до -10 включительно и от 15 до бесконечности.\n",
        "\n",
        "**Данные для получения ответа:**\n",
        "15\n",
        "\n",
        "**Варианты ответа для Canvas:**\n",
        "\n",
        "\n",
        "1. Принадлежит\n",
        "2. Не принадлежит\n",
        "3. Невозможно дать ответ\n",
        "4. Программа выдаст ошибку\n",
        "\n"
      ],
      "metadata": {
        "id": "VJZuJcAAX2Td"
      }
    },
    {
      "cell_type": "code",
      "source": [
        "num = int(input())\n",
        "if float('-inf')< num <= -10 or 15 < num < float('inf'):\n",
        "  print('Принадлежит')\n",
        "else:\n",
        "  print('Не принадлежит')"
      ],
      "metadata": {
        "colab": {
          "base_uri": "https://localhost:8080/"
        },
        "id": "6WkwCHozD1Op",
        "outputId": "c4f4ed37-6969-492b-fc0a-231f7db10919"
      },
      "execution_count": 13,
      "outputs": [
        {
          "output_type": "stream",
          "name": "stdout",
          "text": [
            "15\n",
            "Не принадлежит\n"
          ]
        }
      ]
    },
    {
      "cell_type": "markdown",
      "source": [
        "## Задача №5\n",
        "\n",
        "**Условие:** Напишите программу, которая принимает целое число N и определяет, принадлежит ли данное число указанным промежуткам: от -3 до 10 включительно и от 35 до 70.\n",
        "\n",
        "**Данные для получения ответа:**\n",
        "-3\n",
        "\n",
        "**Варианты ответа для Canvas:**\n",
        "\n",
        "\n",
        "1. Принадлежит\n",
        "2. Не принадлежит\n",
        "3. Невозможно дать ответ\n",
        "4. Программа выдаст ошибку\n",
        "\n"
      ],
      "metadata": {
        "id": "Muk2CUktYmUk"
      }
    },
    {
      "cell_type": "code",
      "source": [
        "num = int(input())\n",
        "if -3 < num <= 10 or 35 < num < 70:\n",
        "  print('Принадлежит')\n",
        "else:\n",
        "  print('Не принадлежит')"
      ],
      "metadata": {
        "colab": {
          "base_uri": "https://localhost:8080/"
        },
        "id": "98DEQxziE80E",
        "outputId": "ac0143cf-f9b0-4fc0-a201-da8a7a2340d9"
      },
      "execution_count": 14,
      "outputs": [
        {
          "output_type": "stream",
          "name": "stdout",
          "text": [
            "-3\n",
            "Не принадлежит\n"
          ]
        }
      ]
    },
    {
      "cell_type": "markdown",
      "source": [
        "## Задача №6\n",
        "\n",
        "**Условие:** Напишите программу, которая определяет, является ли год с данным номером високосным. Если год является високосным, то выведите «Високосный», иначе выведите «Не високосный».\n",
        "\n",
        "**Данные для получения ответа:**\n",
        "1984\n",
        "1998\n",
        "2002\n",
        "2004\n",
        "\n",
        "**Варианты ответа для Canvas:**\n",
        "\n",
        "\n",
        "1. Високосный, Високосный, Високосный, Високосный\n",
        "2. Високосный, Не високосный, Не високосный, Високосный\n",
        "3. Не високосный, Не високосный, Високосный, Високосный\n",
        "4. Високосный, Високосный, Не високосный, Високосный\n",
        "\n"
      ],
      "metadata": {
        "id": "h1SQFk5RZDuu"
      }
    },
    {
      "cell_type": "code",
      "source": [
        "year = int(input('Введите год: '))\n",
        "\n",
        "if (year % 4 == 0 and year % 100 != 0) or year % 400 == 0:\n",
        "    print('Високосный')\n",
        "else:\n",
        "    print('Високосный')"
      ],
      "metadata": {
        "colab": {
          "base_uri": "https://localhost:8080/"
        },
        "id": "uw6vWi7_FKMU",
        "outputId": "b91e3844-6ea7-4900-eeb1-2d0269bf7b6c"
      },
      "execution_count": 15,
      "outputs": [
        {
          "output_type": "stream",
          "name": "stdout",
          "text": [
            "Введите год: 2020\n",
            "Год високосный.\n"
          ]
        }
      ]
    },
    {
      "cell_type": "markdown",
      "source": [
        "## Задача №7\n",
        "\n",
        "**Условие:**  Преподавателю необходимо распределить студентов для сдачи экзамена по 2-ум аудиториям. Если количество студентов является нечетным числом, то преподаватель округлит количество студентов во второй аудитории в большую сторону. Помогите подсчитать количество студентов во второй аудитории.\n",
        "\n",
        "**Данные для получения ответа:**\n",
        "579\n",
        "\n",
        "**Варианты ответа для Canvas:**\n",
        "\n",
        "\n",
        "1. 289\n",
        "2. 290\n",
        "3. 289.5\n",
        "4. 291\n",
        "\n"
      ],
      "metadata": {
        "id": "j8lKmXffaG44"
      }
    },
    {
      "cell_type": "code",
      "source": [
        "#1 способ\n",
        "#num = int(input())\n",
        "#if num//2 != 0:\n",
        "#  print(num//2 + 1)\n",
        "#else:\n",
        "#  print(num//2)\n",
        "\n",
        "#2 способ\n",
        "num = int(input())\n",
        "if num//2 != 0:\n",
        "  print(-1 * num // 2 * -1)\n",
        "else:\n",
        "  print(num//2) "
      ],
      "metadata": {
        "id": "LeJNUJ-2qVGf",
        "colab": {
          "base_uri": "https://localhost:8080/"
        },
        "outputId": "cbfa1307-d1bf-468c-d340-9aee528a8cbe"
      },
      "execution_count": 21,
      "outputs": [
        {
          "output_type": "stream",
          "name": "stdout",
          "text": [
            "579\n",
            "290\n"
          ]
        }
      ]
    },
    {
      "cell_type": "markdown",
      "source": [],
      "metadata": {
        "id": "SaKl5w6PqW2J"
      }
    }
  ]
}