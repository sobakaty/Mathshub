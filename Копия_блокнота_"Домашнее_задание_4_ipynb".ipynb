{
  "nbformat": 4,
  "nbformat_minor": 0,
  "metadata": {
    "colab": {
      "provenance": [],
      "collapsed_sections": [],
      "include_colab_link": true
    },
    "kernelspec": {
      "name": "python3",
      "display_name": "Python 3"
    },
    "language_info": {
      "name": "python"
    }
  },
  "cells": [
    {
      "cell_type": "markdown",
      "metadata": {
        "id": "view-in-github",
        "colab_type": "text"
      },
      "source": [
        "<a href=\"https://colab.research.google.com/github/sobakaty/Mathshub/blob/main/%D0%9A%D0%BE%D0%BF%D0%B8%D1%8F_%D0%B1%D0%BB%D0%BE%D0%BA%D0%BD%D0%BE%D1%82%D0%B0_%22%D0%94%D0%BE%D0%BC%D0%B0%D1%88%D0%BD%D0%B5%D0%B5_%D0%B7%D0%B0%D0%B4%D0%B0%D0%BD%D0%B8%D0%B5_4_ipynb%22.ipynb\" target=\"_parent\"><img src=\"https://colab.research.google.com/assets/colab-badge.svg\" alt=\"Open In Colab\"/></a>"
      ]
    },
    {
      "cell_type": "markdown",
      "source": [
        "# Домашнее задание №4"
      ],
      "metadata": {
        "id": "ZEfFasFJqw1A"
      }
    },
    {
      "cell_type": "markdown",
      "source": [
        "Во всех задачах для ввода данных используйте `input()`, а для вывода данных используйте `print()`"
      ],
      "metadata": {
        "id": "DCG5sNU051Re"
      }
    },
    {
      "cell_type": "markdown",
      "source": [
        "## Задача №1\n",
        "\n",
        "**Условие:** Выведите на экран все нечетные элементы списка (речь не про нечетные индексы, а именно про нечетные элементы).\n",
        "\n",
        "**Пример для проверки:**  \n",
        "*Входные данные (в одну строку, через пробел)*     \n",
        "1 1 1 1 1 2 2 2 2 13 16  \n",
        "*Выходные данные (в одну строку, через пробел)*   \n",
        "1 1 1 1 1 13\n"
      ],
      "metadata": {
        "id": "NFpHXzQ6qJxb"
      }
    },
    {
      "cell_type": "code",
      "source": [
        "\n",
        "n = input()\n",
        "a = [int(n) for n in n.split()]\n",
        "for i in a:\n",
        "    if i % 2 != 0:     \n",
        "      print(i, end=' ')\n",
        "      \n",
        "\n"
      ],
      "metadata": {
        "colab": {
          "base_uri": "https://localhost:8080/"
        },
        "id": "FM8FKY5oYkeS",
        "outputId": "10a8077f-20d1-4365-8aaf-1dd2451d95bc"
      },
      "execution_count": null,
      "outputs": [
        {
          "output_type": "stream",
          "name": "stdout",
          "text": [
            "67 48 93 332 4739 21 83 137 91 91 1273 99 12 82 91 74 67\n",
            "67 93 4739 21 83 137 91 91 1273 99 91 67 "
          ]
        }
      ]
    },
    {
      "cell_type": "code",
      "source": [
        "res = []\n",
        "a = input(\"Входные данные:\").split()\n",
        "for i in a:\n",
        "  if int(i)%2: \n",
        "      res.append(i)\n",
        "    \n",
        "print(\"Выходные данные:\", \" \". join(res))"
      ],
      "metadata": {
        "colab": {
          "base_uri": "https://localhost:8080/"
        },
        "id": "ExBL2oMkc-Iq",
        "outputId": "a75b0b77-5ca8-441d-c5c4-b90d8d910bbd"
      },
      "execution_count": null,
      "outputs": [
        {
          "output_type": "stream",
          "name": "stdout",
          "text": [
            " Входные данные:1 1 1 1 1 2 2 2 2 13 16\n",
            " Выходные данные: 1 1 1 1 1 13\n"
          ]
        }
      ]
    },
    {
      "cell_type": "markdown",
      "source": [
        "## Задача №2\n",
        "\n",
        "**Условие:** Необходимо вывести все элементы списка на экран, которые делятся на 4.\n",
        "\n",
        "**Пример для проверки:**  \n",
        "*Входные данные*  \n",
        "16 28 32 1000 1567 1577   \n",
        "*Выходные данные*  \n",
        "16 28 32 1000\n",
        "\n",
        "\n"
      ],
      "metadata": {
        "id": "BXBB8FYxVrQ7"
      }
    },
    {
      "cell_type": "code",
      "source": [
        "n = input()\n",
        "a = [int(n) for n in n.split()]\n",
        "for i in a:\n",
        "    if i % 4 == 0:     \n",
        "      print(i, end=' ')"
      ],
      "metadata": {
        "id": "4lrkcznFEd8y",
        "colab": {
          "base_uri": "https://localhost:8080/"
        },
        "outputId": "1ffe3b44-2c93-4b5a-bf4f-671be4c47272"
      },
      "execution_count": 6,
      "outputs": [
        {
          "output_type": "stream",
          "name": "stdout",
          "text": [
            "16 28 32 1000 1567 1577\n",
            "16 28 32 1000 "
          ]
        }
      ]
    },
    {
      "cell_type": "markdown",
      "source": [
        "## Задача №3\n",
        "\n",
        "**Условие:** Дан список чисел. Необходимо переставить местами соседние элементы. Если количество элементов нечетное, то последний элемент ставится на первое место после перестановки.\n",
        "\n",
        "**Пример для проверки:**  \n",
        "*Входные данные*  \n",
        "3 10 5 8 39 23 89    \n",
        "*Выходные данные*  \n",
        "89 10 3 8 5 23 39\n",
        "\n"
      ],
      "metadata": {
        "id": "x8ciCybeW2xC"
      }
    },
    {
      "cell_type": "code",
      "source": [
        "a = list(map(int, input().split())) \n",
        "\n",
        "for i in range(0, len(a) // 2):\n",
        "     a[2*i], a[2*i + 1] = a[2*i+1], a[2 * i]\n",
        "if len(a) % 2 == 1:\n",
        "    for i in range(-1, -len(a), -1):\n",
        "       a[i], a[i-1] = a[i-1], a[i] \n",
        "\n",
        "print(*a, end= ' ')\n"
      ],
      "metadata": {
        "id": "zUqikjRO5QzJ",
        "colab": {
          "base_uri": "https://localhost:8080/"
        },
        "outputId": "c473867a-0c9c-4d96-ea5f-048cac3323df"
      },
      "execution_count": null,
      "outputs": [
        {
          "output_type": "stream",
          "name": "stdout",
          "text": [
            "37 292 83 23 861 374 34 191 348\n",
            "348 292 37 23 83 374 861 191 34 "
          ]
        }
      ]
    },
    {
      "cell_type": "code",
      "source": [
        "change_position = []\n",
        "for element in input().split():\n",
        "  change_position.append(int(element))\n",
        "\n",
        "if len(change_position) % 2 != 0:\n",
        "  last_element = change_position.pop()\n",
        "  print(last_element)\n",
        "  for i in range(0,len(change_position)-1,2):\n",
        "    change_position[i],change_position[i+1] = change_position[i+1], change_position[i]\n",
        "  change_position.insert(0, last_element)\n",
        "  print(*change_position)\n",
        "else:\n",
        "  for i in range(0,len(change_position)-1,2):\n",
        "    change_position[i],change_position[i+1] = change_position[i+1], change_position[i]\n",
        "  print(*change_position)\n",
        "\n",
        "  "
      ],
      "metadata": {
        "id": "aHBg9H9A91Cs"
      },
      "execution_count": null,
      "outputs": []
    },
    {
      "cell_type": "markdown",
      "source": [
        "## Задача №4\n",
        "\n",
        "**Условие:** Дан список чисел. Необходимо ввести целое число n. Если элемент в списке больше или равен числу n - оставляем элемент в списке, а если нет, то удаляем из списка. \n",
        "\n",
        "**Пример для проверки:**  \n",
        "*Входные данные*  \n",
        "1 4 7 8 1 22 9 2 567  \n",
        "20  \n",
        "*Выходные данные*  \n",
        "22 567\n"
      ],
      "metadata": {
        "id": "VJZuJcAAX2Td"
      }
    },
    {
      "cell_type": "code",
      "source": [
        "a = list(map(int, input().split()))\n",
        "n = int(input())\n",
        "for i in a:\n",
        "    if i >= n:\n",
        "      print(i, end=' ')\n"
      ],
      "metadata": {
        "id": "i7Krn4PrEb-C",
        "colab": {
          "base_uri": "https://localhost:8080/"
        },
        "outputId": "c4d84f72-9f15-482a-ab8b-746b4f321fc8"
      },
      "execution_count": null,
      "outputs": [
        {
          "output_type": "stream",
          "name": "stdout",
          "text": [
            "1 4 7 8 1 22 9 2 567\n",
            "20\n",
            "22 567 "
          ]
        }
      ]
    },
    {
      "cell_type": "markdown",
      "source": [
        "## Задача №5\n",
        "\n",
        "**Условие:** В списке хранятся данные о том, какие государственные номера для автомобилей уже выданы ранее. Необходимо написать программу, которая по введенному номеру, будет определять занят он или нет. Если занят, то необходимо вывести ответ в формате \"Номер e349ee - занят\". Если не занят, то необходимо вывести ответ в формате \"Номер у490уу - не занят\".\n",
        "\n",
        "**Пример для проверки:**  \n",
        "*Входные данные*  \n",
        "у788гш у429лг у892тт  \n",
        "у788гш  \n",
        "*Выходные данные*  \n",
        "Номер у788гш - занят\n",
        "\n"
      ],
      "metadata": {
        "id": "Muk2CUktYmUk"
      }
    },
    {
      "cell_type": "code",
      "source": [
        "string = input()\n",
        "n = input()\n",
        "if n not in string:\n",
        "  print('Номер', n, '- не занят')\n",
        "else:\n",
        "  print('Номер', n, '- занят')"
      ],
      "metadata": {
        "id": "u_Zn_fcVES4C",
        "colab": {
          "base_uri": "https://localhost:8080/"
        },
        "outputId": "2e488e78-9cbe-4951-bb10-c6072ab3abda"
      },
      "execution_count": null,
      "outputs": [
        {
          "output_type": "stream",
          "name": "stdout",
          "text": [
            "у675ее к534ер к345кк к532ео л434оо н573гг а454ло а454шг р454тр\n",
            "л434ео\n",
            "Номер л434ео - не занят\n"
          ]
        }
      ]
    },
    {
      "cell_type": "code",
      "source": [
        "elements_task_5 = []\n",
        "for element in input().split():\n",
        "  elements_task_5.append(element)\n",
        "current_number = input()\n",
        "\n",
        "for i in elements_task_5:\n",
        "  if i == current_number:\n",
        "    print(f'Номер {current_number} - занят')\n",
        "    break\n",
        "  else:\n",
        "    print(f'Номер {current_number} - не занят')\n",
        "    break"
      ],
      "metadata": {
        "id": "nuphw4EU9q8X"
      },
      "execution_count": null,
      "outputs": []
    },
    {
      "cell_type": "markdown",
      "source": [
        "## Задача №6\n",
        "\n",
        "**Условие:** Частотный анализ списка. Дан список, состоящий из натуральных чисел. Необходимо вывести сколько раз встречается каждое число в порядке возрастания чисел.\n",
        "\n",
        "**Пример для проверки:**  \n",
        "*Входные данные*  \n",
        "1 4 8 9 2 78 33 23 33 2 4   \n",
        "*Выходные данные*    \n",
        "1 1  \n",
        "2 2  \n",
        "4 2  \n",
        "8 1  \n",
        "9 1  \n",
        "23 1  \n",
        "33 2  \n",
        "78 1\n"
      ],
      "metadata": {
        "id": "-qbwHbS91M1f"
      }
    },
    {
      "cell_type": "code",
      "source": [
        "elements_task_6 = []\n",
        "for element in input().split():\n",
        "  elements_task_6.append(int(element))\n",
        "\n",
        "d = {}\n",
        "\n",
        "for i in elements_task_6:\n",
        "  d[i] = elements_task_6.count(i)\n",
        "result = sorted(d.items())\n",
        "\n",
        "for i in result:\n",
        "  print(i[0],i[1])\n",
        "  \n",
        "\n"
      ],
      "metadata": {
        "id": "LrH0o4VxEOvb",
        "colab": {
          "base_uri": "https://localhost:8080/"
        },
        "outputId": "f2fed926-7d73-46ec-8a2e-da5ef8a834d1"
      },
      "execution_count": null,
      "outputs": [
        {
          "output_type": "stream",
          "name": "stdout",
          "text": [
            "\n",
            "[]\n"
          ]
        }
      ]
    },
    {
      "cell_type": "code",
      "source": [
        "\n",
        "\n",
        "arr = list(map(int, input().split(' ')))\n",
        "for i in set(arr): print(i, arr.count(i))"
      ],
      "metadata": {
        "colab": {
          "base_uri": "https://localhost:8080/"
        },
        "id": "rMglTSwApHOp",
        "outputId": "0fc85a3b-8b25-4425-de22-362a513ac650"
      },
      "execution_count": null,
      "outputs": [
        {
          "output_type": "stream",
          "name": "stdout",
          "text": [
            "5 3 4 9 8 7 8 4 6 2 7 2 8 2 6 8 2 9 2 7 2 9 8 1 3 4 5 8 2 9 2 4 3 9\n",
            "1 1\n",
            "2 8\n",
            "3 3\n",
            "4 4\n",
            "5 2\n",
            "6 2\n",
            "7 3\n",
            "8 6\n",
            "9 5\n"
          ]
        }
      ]
    },
    {
      "cell_type": "markdown",
      "source": [
        "## Задача №7\n",
        "\n",
        "**Условие:** Дан текст, содержащий знаки препинания. Необходимо определить количество запятых и точек в тексте.\n",
        "\n",
        "**Пример для проверки:**  \n",
        "*Входные данные*  \n",
        "Уж небо осенью дышало, Уж реже солнышко блистало, Короче становился день, Лесов таинственная сень С печальным шумом обнажалась, Ложился на поля туман, Гусей крикливых караван Тянулся к югу: приближалась Довольно скучная пора; Стоял ноябрь уж у двора.  \n",
        "*Выходные данные*    \n",
        "Запятые - 5  \n",
        "Точки - 1\n"
      ],
      "metadata": {
        "id": "lG5JNbLO3TlV"
      }
    },
    {
      "cell_type": "code",
      "source": [
        "dotcount = 0\n",
        "commacount = 0\n",
        "str = input()\n",
        "for char in str:\n",
        "  if char == '.':\n",
        "    dotcount+=1\n",
        "  elif char == ',':\n",
        "        commacount+=1\n",
        "print('Запятые -', commacount)\n",
        "print('Точки -', dotcount)"
      ],
      "metadata": {
        "colab": {
          "base_uri": "https://localhost:8080/"
        },
        "id": "_LEvmL29ECW4",
        "outputId": "664e337a-4106-4fb0-b861-abcd6d32f44c"
      },
      "execution_count": null,
      "outputs": [
        {
          "output_type": "stream",
          "name": "stdout",
          "text": [
            "Немного лет тому назад, Там, где, сливаяся, шумят, Обнявшись, будто две сестры, Струи Арагвы и Куры, Был монастырь. Из-за горы И нынче видит пешеход Столбы обрушенных ворот, И башни, и церковный свод; Но не курится уж под ним Кадильниц благовонный дым, Не слышно пенье в поздний час Молящих иноков за нас.\n",
            "Запятые - 11\n",
            "Точки - 2\n"
          ]
        }
      ]
    },
    {
      "cell_type": "code",
      "source": [
        "article = input()\n",
        "print('Запятые - ', article.count(','))\n",
        "print('Точки - ', article.count('.'))"
      ],
      "metadata": {
        "id": "9HUZaeLb9Y1o"
      },
      "execution_count": null,
      "outputs": []
    },
    {
      "cell_type": "markdown",
      "source": [
        "## Задача №8\n",
        "\n",
        "**Условие:** Дана база данных интернет-магазина. Строчка состоит из id пользователя, названия товара (одно слово без пробела) и количество приобретенного товара. Для каждого id пользователя необходимо составить перечень приобретенных товаров, при этом одинаковые товары из списка необходимо сложить и вывести общую сумму приобретенных товаров. \n",
        "\n",
        "**Пример для проверки:**  \n",
        "*Входные данные*  \n",
        "1289009 футболка 5  \n",
        "1289009 джинсы 2  \n",
        "1289003 футболка 3  \n",
        "1289013 блузы 5  \n",
        "1289009 футболка 2  \n",
        "1289003 джинсы 3  \n",
        "*Выходные данные*    \n",
        "1289009  \n",
        "футболка 7  \n",
        "джинсы 2  \n",
        "1289003  \n",
        "футболка 3  \n",
        "джинсы 3  \n",
        "1289013  \n",
        "блузы 5  \n"
      ],
      "metadata": {
        "id": "mN_CuHj6_wgB"
      }
    },
    {
      "cell_type": "code",
      "source": [
        "a = input().split()\n",
        "s = []\n",
        "for i in range(0, len(a), 3):\n",
        "  s.append(a[i : i + 3])\n",
        "table = {}\n",
        "for el in s:\n",
        "  id, count = int(el[0]), int(el[2])\n",
        "  names = table.get(id, {})\n",
        "  names[el[1]] = names.get(el[1], 0) + count\n",
        "  table[id] = names\n",
        "for id in sorted(table):\n",
        "  print(id)\n",
        "  names = table.get(id)\n",
        "  for name in sorted(names):\n",
        "    print(name, names.get(name))"
      ],
      "metadata": {
        "id": "LAngX-e8wBnH",
        "colab": {
          "base_uri": "https://localhost:8080/"
        },
        "outputId": "6db91639-9a0f-481a-dbd9-653710fdc8bb"
      },
      "execution_count": null,
      "outputs": [
        {
          "output_type": "stream",
          "name": "stdout",
          "text": [
            "1289009 футболка 5 1289009 джинсы 2 1289003 футболка 3 1289013 блузы 5 1289009 футболка 2 1289003 джинсы 3\n",
            "1289003\n",
            "джинсы 3\n",
            "футболка 3\n",
            "1289009\n",
            "джинсы 2\n",
            "футболка 7\n",
            "1289013\n",
            "блузы 5\n"
          ]
        }
      ]
    },
    {
      "cell_type": "code",
      "source": [
        "shop = []\n",
        "full_shop = []\n",
        "\n",
        "while True:\n",
        "  product = input().split()\n",
        "  for i in range(0, len(product),3):\n",
        "      full_shop.append(product[i:i+3])\n",
        "  if not product:\n",
        "      break\n",
        "\n",
        "result = {}\n",
        "\n",
        "for product in full_shop:\n",
        "  id, count = product[0], int(product[2])\n",
        "  name = {}\n",
        "  name = result.get(id, name)\n",
        "  name[product[1]] = name.get(product[1],0) + count\n",
        "  result[id] = name\n",
        "\n",
        "for id in result:\n",
        "  print(id)\n",
        "  name = result[id].items()\n",
        "  for i in name:\n",
        "    print(i[0],i[1])"
      ],
      "metadata": {
        "id": "1pCVcbaR9Fj3"
      },
      "execution_count": null,
      "outputs": []
    },
    {
      "cell_type": "markdown",
      "source": [
        "## Задача №9\n",
        "\n",
        "**Условие:** Дано два списка. Напишите программу, которая найдет все элементы, которые принадлежат первому списку и не принадлежат второму. \n",
        "\n",
        "**Пример для проверки:**  \n",
        "*Входные данные*  \n",
        "2 4 6 8 10  \n",
        "5 10 15 25  \n",
        "*Выходные данные*    \n",
        "2 4 6 8\n"
      ],
      "metadata": {
        "id": "B0hLBDAiFKPz"
      }
    },
    {
      "cell_type": "code",
      "source": [
        "list_1 = list(map(int, input().split()))\n",
        "list_2 = list(map(int, input().split()))\n",
        "\n",
        "print(*(set(list_1) - set(list_2)))"
      ],
      "metadata": {
        "colab": {
          "base_uri": "https://localhost:8080/"
        },
        "id": "y-dzjj4RWa0w",
        "outputId": "bcb2ea91-ae04-4fff-d7bb-355ff9d7c71a"
      },
      "execution_count": 5,
      "outputs": [
        {
          "output_type": "stream",
          "name": "stdout",
          "text": [
            "2 4 6 8 10\n",
            "5 10 15 25\n",
            "8 2 4 6\n"
          ]
        }
      ]
    },
    {
      "cell_type": "code",
      "source": [
        "list_1 = list(map(int, input().split()))\n",
        "list_2 = list(map(int, input().split()))\n",
        "\n",
        "result = list(set(list_1) - set(list_2))\n",
        "result.sort()\n",
        "print(*result)"
      ],
      "metadata": {
        "id": "d8U6YPDm8yHK"
      },
      "execution_count": null,
      "outputs": []
    },
    {
      "cell_type": "markdown",
      "source": [
        "## Задача №10\n",
        "\n",
        "**Условие:** Напишите функцию, которая будет находить наибольший общий делитель для двух чисел.\n",
        "\n",
        "**Пример для проверки:**  \n",
        "*Входные данные*  \n",
        "9  \n",
        "6   \n",
        "*Выходные данные*    \n",
        "3  \n"
      ],
      "metadata": {
        "id": "dsGj1MP7GrQA"
      }
    },
    {
      "cell_type": "code",
      "source": [
        "a = int(input())\n",
        "b = int(input())\n",
        "if a > b:  # define the if condition \n",
        "    temp = b \n",
        "else: \n",
        "    temp = a \n",
        "for i in range(1, temp + 1): \n",
        "        if(( a % i == 0) and(b % i == 0 )): \n",
        "            temp = i \n",
        "print(temp)\n",
        "   \n"
      ],
      "metadata": {
        "colab": {
          "base_uri": "https://localhost:8080/"
        },
        "id": "ZD5Kgn6hQoGr",
        "outputId": "b53920fb-868f-47d0-a156-878f4b354c1c"
      },
      "execution_count": null,
      "outputs": [
        {
          "output_type": "stream",
          "name": "stdout",
          "text": [
            "305 \n",
            "200\n",
            "5\n"
          ]
        }
      ]
    },
    {
      "cell_type": "code",
      "source": [
        "import math\n",
        "math.gcd(int(input()),int(input()))"
      ],
      "metadata": {
        "colab": {
          "base_uri": "https://localhost:8080/"
        },
        "id": "Sx22ruHu8NUA",
        "outputId": "523034e6-6ca2-4827-b0b9-89910d26dfc0"
      },
      "execution_count": 3,
      "outputs": [
        {
          "name": "stdout",
          "output_type": "stream",
          "text": [
            "305\n",
            "200\n"
          ]
        },
        {
          "output_type": "execute_result",
          "data": {
            "text/plain": [
              "5"
            ]
          },
          "metadata": {},
          "execution_count": 3
        }
      ]
    },
    {
      "cell_type": "markdown",
      "source": [
        "## Задача №11\n",
        "\n",
        "**Условие:** Напишите функцию, которая определяет по введенному числу, четное оно или нет. Если число четное, то выведите True, а если нет, то False.\n",
        "\n",
        "**Пример для проверки:**  \n",
        "*Входные данные*  \n",
        "10   \n",
        "*Выходные данные*    \n",
        "True  \n"
      ],
      "metadata": {
        "id": "YEsAqQ_zG8XJ"
      }
    },
    {
      "cell_type": "code",
      "source": [
        "num = int(input())\n",
        "if num %2 == 0:\n",
        "  print('True')\n",
        "else:\n",
        "  print('False')"
      ],
      "metadata": {
        "colab": {
          "base_uri": "https://localhost:8080/"
        },
        "id": "KeGpSb2R7mp5",
        "outputId": "405f75ba-54f1-4e37-ad4a-97c575d9fa0d"
      },
      "execution_count": null,
      "outputs": [
        {
          "output_type": "stream",
          "name": "stdout",
          "text": [
            "56274\n",
            "True\n"
          ]
        }
      ]
    },
    {
      "cell_type": "markdown",
      "source": [
        "## Задача №12\n",
        "\n",
        "**Условие:** Напишите функцию, которая определяет по тексту, является ли он палиндромом. Если является, то выведите Yes, а если нет, то No.\n",
        "\n",
        "**Пример для проверки:**  \n",
        "*Входные данные*  \n",
        "Искать такси   \n",
        "*Выходные данные*    \n",
        "Yes  \n"
      ],
      "metadata": {
        "id": "OfXAhLahH28D"
      }
    },
    {
      "cell_type": "code",
      "source": [
        "str = input()\n",
        "str = str.lower()\n",
        "str = str.replace(\" \", \"\")\n",
        "str = str.replace('-', '')\n",
        "if str[:] == str[::-1]:\n",
        "  print('YES')\n",
        "else:\n",
        "  print('NO')\n"
      ],
      "metadata": {
        "id": "1G3l98mKEmT9",
        "colab": {
          "base_uri": "https://localhost:8080/"
        },
        "outputId": "b2ebabec-4a25-4ea4-8a1b-607682470247"
      },
      "execution_count": 2,
      "outputs": [
        {
          "output_type": "stream",
          "name": "stdout",
          "text": [
            "Я - арка края\n",
            "YES\n"
          ]
        }
      ]
    },
    {
      "cell_type": "code",
      "source": [
        "def wordChecker(word):\n",
        "  word = word.replace(' ','').lower()\n",
        "  word = word.replace('!','')\n",
        "  if word == word[::-1]:\n",
        "    return 'Yes'\n",
        "  else:\n",
        "    return 'No'\n",
        "  \n",
        "\n",
        "word_input = input()\n",
        "wordChecker(word_input)"
      ],
      "metadata": {
        "id": "IPWN927K7lTJ"
      },
      "execution_count": null,
      "outputs": []
    }
  ]
}